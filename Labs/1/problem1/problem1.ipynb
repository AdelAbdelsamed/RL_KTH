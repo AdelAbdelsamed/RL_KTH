{
 "cells": [
  {
   "cell_type": "code",
   "execution_count": null,
   "id": "44420a79-15e5-4a42-9279-c0a97137d79d",
   "metadata": {},
   "outputs": [],
   "source": [
    "import numpy as np\n",
    "import maze as mz \n",
    "import matplotlib.pyplot as plt"
   ]
  },
  {
   "cell_type": "code",
   "execution_count": null,
   "id": "d2e2875e-a7a1-4bc6-ae29-65abdc6339a3",
   "metadata": {},
   "outputs": [],
   "source": [
    "# Description of the maze as a numpy array\n",
    "maze = np.array([\n",
    "    [0, 0, 1, 0, 0, 0, 0, 0],\n",
    "    [0, 0, 1, 0, 0, 1, 0, 0],\n",
    "    [0, 0, 1, 0, 0, 1, 1, 1],\n",
    "    [0, 0, 1, 0, 0, 1, 0, 0],\n",
    "    [0, 0, 0, 0, 0, 0, 0, 0],\n",
    "    [0, 1, 1, 1, 1, 1, 1, 0],\n",
    "    [0, 0, 0, 0, 1, 2, 0, 0]\n",
    "])\n",
    "# with the convention \n",
    "# 0 = empty cell\n",
    "# 1 = obstacle\n",
    "# 2 = exit of the Maze\n",
    "\n",
    "mz.draw_maze(maze)\n",
    "# Create an environment maze\n",
    "env = mz.Maze(maze, False)\n",
    "# env.show()"
   ]
  },
  {
   "cell_type": "code",
   "execution_count": null,
   "id": "29450973-7659-4773-968d-fe98549bec93",
   "metadata": {},
   "outputs": [],
   "source": [
    "# Finite horizon\n",
    "horizon = 20\n",
    "# Solve the MDP problem with dynamic programming \n",
    "V, policy= mz.dynamic_programming(env,horizon);"
   ]
  },
  {
   "cell_type": "code",
   "execution_count": null,
   "id": "eaf859e7-c217-4b74-a869-86ad750b4b1d",
   "metadata": {},
   "outputs": [],
   "source": [
    "# Animate the shortest path starting from position A\n",
    "method = 'DynProg';\n",
    "start  = (0,0,6,5);\n",
    "path = env.simulate(start, policy, method);\n",
    "# Show the shortest path \n",
    "#mz.animate_solution(maze, path)\n",
    "print(path)"
   ]
  },
  {
   "cell_type": "code",
   "execution_count": null,
   "id": "0616dcd9-2433-4f4d-b3f3-a55f6a68c6eb",
   "metadata": {},
   "outputs": [],
   "source": [
    "## Compute the probability of getting out successfuly for varying time-horizons\n",
    "horizons = np.arange(1,31)\n",
    "\n",
    "probab_exiting_mini_no_stay = mz.compute_POS(env, start, n_iterations = 10000, horizon = horizons.tolist() , method = 'DynProg')\n",
    "# Set the mini_stay to true \n",
    "env.set_mini_stay(True)\n",
    "probab_exiting_mini_stay = mz.compute_POS(env, start, n_iterations = 10000, horizon = horizons.tolist() , method = 'DynProg')\n",
    "\n",
    "fig1 = plt.figure\n",
    "plt.scatter(horizons, probab_exiting_mini_no_stay, label = 'Minitaur cannot stay')\n",
    "plt.scatter(horizons, probab_exiting_mini_stay, label = 'Minitaur can stay')\n",
    "plt.title(\"Probability of getting out alive!\")\n",
    "plt.xlabel('Time Horizon T')\n",
    "plt.ylabel('Probability of Success')\n",
    "plt.legend()\n",
    "plt.grid()"
   ]
  },
  {
   "cell_type": "code",
   "execution_count": null,
   "metadata": {},
   "outputs": [],
   "source": [
    "# Solve the infinite horizon discounted MDP\n",
    "env.set_mini_stay(False)\n",
    "# Discount Factor can be computed from the mean 1/(1-gamma) = 30\n",
    "gamma   = 29/30; \n",
    "# Accuracy treshold \n",
    "epsilon = 0.0001;\n",
    "V, policy = mz.value_iteration(env, gamma, epsilon)\n"
   ]
  },
  {
   "cell_type": "code",
   "execution_count": null,
   "metadata": {},
   "outputs": [],
   "source": [
    "method = 'ValIter';\n",
    "start  = (0,0,6,5);\n",
    "path = env.simulate(start, policy, method)\n",
    "# Show the shortest path \n",
    "mz.animate_solution(maze, path)"
   ]
  },
  {
   "cell_type": "code",
   "execution_count": null,
   "metadata": {},
   "outputs": [],
   "source": [
    "# Estimate probability of getting out alive for value iteration\n",
    "start  = (0,0,6,5);\n",
    "probab_exiting = mz.compute_POS(env, start, n_iterations = 10000, horizon = [] , method = 'ValIter')\n",
    "print('Probability of getting out alive: ', probab_exiting)"
   ]
  }
 ],
 "metadata": {
  "kernelspec": {
   "display_name": "Python 3 (ipykernel)",
   "language": "python",
   "name": "python3"
  },
  "language_info": {
   "codemirror_mode": {
    "name": "ipython",
    "version": 3
   },
   "file_extension": ".py",
   "mimetype": "text/x-python",
   "name": "python",
   "nbconvert_exporter": "python",
   "pygments_lexer": "ipython3",
   "version": "3.9.18"
  }
 },
 "nbformat": 4,
 "nbformat_minor": 5
}
